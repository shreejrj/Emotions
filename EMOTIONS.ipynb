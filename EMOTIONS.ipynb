# Install necessary libraries
!pip install pandas
!pip install scikit-learn

# Import libraries
import pandas as pd
from sklearn.model_selection import train_test_split
from sklearn.feature_extraction.text import TfidfVectorizer
from sklearn.linear_model import LogisticRegression
from sklearn.metrics import classification_report, confusion_matrix

# Load the dataset
# Adjust the path as needed
file_path = '/content/Emotions.txt'  # Update this to your actual file path

# Read the data from the text file
data = []
with open(file_path, 'r') as file:
    for line in file:
        text, emotion = line.strip().rsplit(';', 1)  # Split on the last semicolon
        data.append((text.strip(), emotion.strip()))

# Create a DataFrame
df = pd.DataFrame(data, columns=['Text', 'Emotion'])

# Display the first few rows and the column names of the dataset
print(df.head())
print(df.columns)

# Split the dataset into training and testing sets
X = df['Text']
y = df['Emotion']
X_train, X_test, y_train, y_test = train_test_split(X, y, test_size=0.2, random_state=42)

# Initialize the TF-IDF Vectorizer
vectorizer = TfidfVectorizer(max_features=5000)

# Fit and transform the training data
X_train_tfidf = vectorizer.fit_transform(X_train)

# Transform the test data
X_test_tfidf = vectorizer.transform(X_test)

# Initialize the Logistic Regression model
model = LogisticRegression()

# Train the model
model.fit(X_train_tfidf, y_train)

# Make predictions on the test set
y_pred = model.predict(X_test_tfidf)

# Print the classification report and confusion matrix
print(classification_report(y_test, y_pred))
print(confusion_matrix(y_test, y_pred))

# Function to predict emotion for new texts
def predict_emotion(text):
    text_tfidf = vectorizer.transform([text])
    prediction = model.predict(text_tfidf)
    return prediction[0]

# Example texts for emotion analysis
test_texts = [
    "I am so happy today!",
    "I feel really sad and alone.",
    "This is the best day of my life!",
    "I am angry about the situation.",
    "I feel anxious about the future."
]

# Analyze emotions for example texts
for text in test_texts:
    emotion = predict_emotion(text)
    print(f"Text: {text}\nPredicted Emotion: {emotion}\n")

# Personal input for emotion analysis
personal_text = input("Enter a sentence to check its emotion: ")
predicted_emotion = predict_emotion(personal_text)
print(f"Text: {personal_text}\nPredicted Emotion: {predicted_emotion}\n")
